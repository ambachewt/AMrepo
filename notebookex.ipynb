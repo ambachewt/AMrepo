{
 "cells": [
  {
   "cell_type": "markdown",
   "id": "b263047f-39da-4f28-b838-d4975aca4764",
   "metadata": {},
   "source": [
    "# Data Science Tools and Ecosystem"
   ]
  },
  {
   "cell_type": "markdown",
   "id": "6a4853a7-440a-4bc7-a304-c63b511fdbf3",
   "metadata": {},
   "source": [
    "# ex3\n",
    "# introduction about data science\n",
    "Data surrounds us in every aspect of our lives, from the websites we visit to the purchases we make.\n",
    " But how do we unlock the valuable insights hidden within this vast sea of information? Enter data science, \n",
    " a powerful field that combines statistics, computer science, and domain knowledge to extract meaning from data\n",
    " \n",
    " This journey into data science will equip you with the knowledge of these essential tools and techniques, empowering you to transform data into actionable knowledge.\n",
    " "
   ]
  },
  {
   "cell_type": "markdown",
   "id": "31efecba-400a-41da-b27a-e3b5534fb79c",
   "metadata": {},
   "source": [
    " # ex4\n",
    "## data science languages\n",
    "* Python\n",
    "* java\n",
    "* c++\n",
    "* R\n",
    "* Scala\n",
    "* java script\n",
    "* SQL \n",
    "* c"
   ]
  },
  {
   "cell_type": "code",
   "execution_count": null,
   "id": "836a7175-1eb3-4459-9094-dbb8c48a98a7",
   "metadata": {},
   "outputs": [],
   "source": []
  },
  {
   "cell_type": "markdown",
   "id": "4c0452a3-e16b-48cc-b8ff-ea84aeae00f0",
   "metadata": {},
   "source": [
    "## ex5\n",
    "## list of data science libraries\n",
    "* Numpuhhhd\n",
    "*  Pandas\n",
    "*  SciPy\n",
    "*  TensorFlow & PyTorch\n",
    "* and more "
   ]
  },
  {
   "cell_type": "code",
   "execution_count": null,
   "id": "a78afcaa-636d-4fbe-beb9-f76e2b033827",
   "metadata": {},
   "outputs": [],
   "source": []
  },
  {
   "cell_type": "markdown",
   "id": "7dfd3fa0-c9f6-47f9-8571-8783d78025b7",
   "metadata": {},
   "source": [
    "## ex6\n",
    "## table for the data science tools\n",
    "| Category | Tool | Description |\n",
    "|---|---|---|\n",
    "| Programming Language | Python | General-purpose language widely used in data science. |\n",
    "| Library | NumPy | Provides powerful arrays and mathematical operations for numerical computing. |\n",
    "| Library | Pandas | Offers data structures like DataFrames for analysis and manipulation. |\n",
    "| Visualization | Matplotlib | Core library for creating various visualizations. |\n",
    "| Machine Learning | Scikit-learn | Comprehensive toolkit with algorithms for classification, regression, and more. |\n",
    "| Deep Learning | TensorFlow | Popular library for building, training, and deploying deep learning models. |"
   ]
  },
  {
   "cell_type": "code",
   "execution_count": null,
   "id": "3c71ec7f-af0c-41c5-8f52-154025e1b17a",
   "metadata": {},
   "outputs": [],
   "source": []
  },
  {
   "cell_type": "markdown",
   "id": "d7107507-4153-44c7-b7b5-a3012891123a",
   "metadata": {},
   "source": [
    "# ex7\n",
    "## arithmetic expression examples\n",
    "* The sum of two variables, x and y: $x + y$\n",
    "* The difference between a and b: $a - b$\n",
    "* The product of 3 and the square of c: $3c^2$\n",
    "* The quotient of 5 divided by the sum of x and 2: $\\frac{5}{x + 2}$"
   ]
  },
  {
   "cell_type": "code",
   "execution_count": null,
   "id": "380d4fb2-08f5-4cdf-a71c-03e5af724134",
   "metadata": {},
   "outputs": [],
   "source": [
    "## ex 8\n",
    "# Multiply two numbers\n",
    "product = 5 * 3\n",
    "print(\"The product of 5 and 3 is:\", product)\n",
    "\n",
    "# Add three numbers\n",
    "summation = 2 + 7 + 4\n",
    "print(\"The sum of 2, 7, and 4 is:\", summation)"
   ]
  },
  {
   "cell_type": "code",
   "execution_count": null,
   "id": "2da09514-0b4a-481f-be0b-f0d96241d5fb",
   "metadata": {},
   "outputs": [],
   "source": []
  },
  {
   "cell_type": "markdown",
   "id": "38c7890d-e00e-4541-9364-4b75aae297c8",
   "metadata": {},
   "source": [
    "## ex9\n",
    "# Function to convert minutes to hours\n",
    "def minutes_to_hours(minutes):\n",
    "  \"\"\"Converts minutes to hours.\n",
    "\n",
    "  Args:\n",
    "      minutes: An integer representing the number of minutes.\n",
    "\n",
    "  Returns:\n",
    "      A float representing the number of hours.\n",
    "  \"\"\"\n",
    "  hours = minutes / 60\n",
    "  return hours\n",
    "# Example usage\n",
    "minutes = 120\n",
    "converted_hours = minutes_to_hours(minutes)\n",
    "print(f\"{minutes} minutes is equal to {converted_hours:.2f} hours.\")"
   ]
  },
  {
   "cell_type": "code",
   "execution_count": null,
   "id": "44328563-e8ba-407a-93b3-f3ee8f331750",
   "metadata": {},
   "outputs": [],
   "source": []
  },
  {
   "cell_type": "markdown",
   "id": "aba754f3-eda8-43d0-a0f9-0bad606d542e",
   "metadata": {},
   "source": [
    "## ex 10\n",
    "# Objectives of Data Science\n",
    "\n",
    "Data science encompasses various techniques and tools for extracting valuable information from data. Here are some key objectives:\n",
    "\n",
    "* **Extract knowledge from data:** Analyze raw data to identify trends, patterns, and relationships.\n",
    "* **Build models for prediction and decision making:** Develop algorithms and models that can predict future events or support informed decision-making. \n",
    "* **Communicate findings effectively:** Present insights and results in a clear and understandable way for both technical and non-technical audiences."
   ]
  },
  {
   "cell_type": "code",
   "execution_count": null,
   "id": "7c27d3c8-32a7-4384-a541-31eb85ee9ae4",
   "metadata": {},
   "outputs": [],
   "source": []
  },
  {
   "cell_type": "markdown",
   "id": "994482d7-ce25-4d40-8c9c-9c98bbebbc17",
   "metadata": {},
   "source": [
    "# ex 11\n",
    "\n",
    "This document was created by:[Ambachew Tarekegn]\n"
   ]
  },
  {
   "cell_type": "code",
   "execution_count": null,
   "id": "d8f8b6b2-6ced-407e-ab9a-7e3179b8bee0",
   "metadata": {},
   "outputs": [],
   "source": []
  }
 ],
 "metadata": {
  "kernelspec": {
   "display_name": "Python",
   "language": "python",
   "name": "conda-env-python-py"
  },
  "language_info": {
   "codemirror_mode": {
    "name": "ipython",
    "version": 3
   },
   "file_extension": ".py",
   "mimetype": "text/x-python",
   "name": "python",
   "nbconvert_exporter": "python",
   "pygments_lexer": "ipython3",
   "version": "3.7.12"
  }
 },
 "nbformat": 4,
 "nbformat_minor": 5
}
